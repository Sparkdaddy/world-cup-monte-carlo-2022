{
 "cells": [
  {
   "cell_type": "markdown",
   "metadata": {},
   "source": [
    "### Deliverables:\n",
    "* Git repository with all my source code\n",
    "* A README.md file that nicely explains how to run this file and links to download python\n",
    "    * Additionally a work session to make sure it runs on your machine and that you're happy with it\n",
    "* An exported excel file for every monte carlo analysis \n",
    "    * NOTE: With the notebook this result is redundant but it's up to you what you prefer"
   ]
  },
  {
   "cell_type": "markdown",
   "metadata": {},
   "source": [
    "### Pseudocode:\n",
    "1. Initialize team rankings\n",
    "    1. Compute average\n",
    "1. Compute Monte Carlo analysis results\n",
    "    1. Determine if the team wins or loses with round robin pool play\n",
    "        * Draws are not an option since this adds additional complexity\n",
    "    1. Determine who wins in the following knockout rounds\n",
    "1. Show results\n",
    "    * Print top 3\n",
    "    * Print a graph of the results\n",
    "1. Export the results to an excel file\n",
    "    1. All 32 teams with their rankings\n",
    "    1. Another column of the top 3 teams with this analysis"
   ]
  },
  {
   "cell_type": "markdown",
   "metadata": {},
   "source": [
    "### Similar results upon googling: \n",
    "* Raw results with no source info: https://www.reddit.com/r/worldcup/comments/vo7gt6/world_cup_monte_carlo_model/\n",
    "    * Excellend picture to include for bracket projection\n",
    "* Excel file? https://www.reddit.com/r/worldcup/comments/27hxf8/i_created_an_interactive_simulation_of_the_world/\n",
    "* Written in R: https://github.com/abhinavr2121/World_Cup_2022"
   ]
  }
 ],
 "metadata": {
  "language_info": {
   "name": "python"
  },
  "orig_nbformat": 4
 },
 "nbformat": 4,
 "nbformat_minor": 2
}
