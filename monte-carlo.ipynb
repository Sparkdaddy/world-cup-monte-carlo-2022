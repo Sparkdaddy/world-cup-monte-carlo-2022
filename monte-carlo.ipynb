{
 "cells": [
  {
   "cell_type": "markdown",
   "metadata": {},
   "source": [
    "### Deliverables:\n",
    "* Git repository with all the source code\n",
    "* A README.md file that nicely explains how to run this file and links to download python\n",
    "    * Additionally a work session to make sure it runs on your machine and that you're happy with it\n",
    "* An exported excel file for every monte carlo analysis \n",
    "    * NOTE: With the notebook this excel result is redundant but it's up to you what you prefer"
   ]
  },
  {
   "cell_type": "markdown",
   "metadata": {},
   "source": [
    "### Pseudocode:\n",
    "1. Initialize team rankings\n",
    "    1. Compute average\n",
    "1. Compute Monte Carlo analysis results\n",
    "    1. Determine if the team wins or loses with round robin pool play\n",
    "        * Draws are not an option since this adds additional complexity\n",
    "    1. Determine who wins in the following knockout rounds\n",
    "1. Show results\n",
    "    * Print top 3\n",
    "    * Print a graph of the results\n",
    "1. Export the results to an excel file\n",
    "    1. All 32 teams with their rankings\n",
    "    1. Another column of the top 3 teams with this analysis"
   ]
  },
  {
   "cell_type": "markdown",
   "metadata": {},
   "source": [
    "### Similar results upon googling: \n",
    "* Raw results with no source info: https://www.reddit.com/r/worldcup/comments/vo7gt6/world_cup_monte_carlo_model/\n",
    "    * Excellend picture to include for bracket projection\n",
    "* Excel file? https://www.reddit.com/r/worldcup/comments/27hxf8/i_created_an_interactive_simulation_of_the_world/\n",
    "* Written in R: https://github.com/abhinavr2121/World_Cup_2022"
   ]
  },
  {
   "cell_type": "code",
   "execution_count": null,
   "metadata": {},
   "outputs": [],
   "source": [
    "import statistics"
   ]
  },
  {
   "cell_type": "code",
   "execution_count": 2,
   "metadata": {},
   "outputs": [],
   "source": [
    "teams = {\n",
    "'Qatar': 1000,\n",
    "'Ecuador': 1000,\n",
    "'Senegal': 1000,\n",
    "'Netherlands': 1000,\n",
    "'England': 1000,\n",
    "'Iran': 1000,\n",
    "'USA': 1000,\n",
    "'Wales': 1000,\n",
    "'Argentina': 1000,\n",
    "'Saudi Arabia': 1000,\n",
    "'Mexico': 1000,\n",
    "'Poland': 1000,\n",
    "'France': 1000,\n",
    "'Australia': 1000,\n",
    "'Denmark': 1000,\n",
    "'Tunisia': 1000,\n",
    "'Spain': 1000,\n",
    "'Costa Rica': 1000,\n",
    "'Germany': 1000,\n",
    "'Japan': 1000,\n",
    "'Belgium': 1000,\n",
    "'Canada': 1000,\n",
    "'Morocco': 1000,\n",
    "'Croatia': 1000,\n",
    "'Brazil': 1000,\n",
    "'Serbia': 1000,\n",
    "'Switzerland': 1000,\n",
    "'Cameroon': 1000,\n",
    "'Portugal': 1000,\n",
    "'Ghana': 1000,\n",
    "'Uruguay': 1000,\n",
    "'South Korea': 1000\n",
    "}\n",
    "elos = []\n",
    "for teamScore in teams.values():\n",
    "    elos.append(teamScore)\n",
    "\n",
    "print(f'Avg: {statistics.mean(elos)}')\n",
    "print(f'Std Dev: {statistics.pstdev(elos)}')\n"
   ]
  },
  {
   "cell_type": "code",
   "execution_count": null,
   "metadata": {},
   "outputs": [],
   "source": []
  }
 ],
 "metadata": {
  "kernelspec": {
   "display_name": "Python 3.8.10 ('venv': venv)",
   "language": "python",
   "name": "python3"
  },
  "language_info": {
   "codemirror_mode": {
    "name": "ipython",
    "version": 3
   },
   "file_extension": ".py",
   "mimetype": "text/x-python",
   "name": "python",
   "nbconvert_exporter": "python",
   "pygments_lexer": "ipython3",
   "version": "3.8.10"
  },
  "orig_nbformat": 4,
  "vscode": {
   "interpreter": {
    "hash": "a6af23c28559cce59e44e5adefd7bd30613fa8666a61df498681c29b823a51c2"
   }
  }
 },
 "nbformat": 4,
 "nbformat_minor": 2
}
